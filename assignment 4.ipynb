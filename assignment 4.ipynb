{
 "cells": [
  {
   "cell_type": "code",
   "execution_count": 2,
   "metadata": {},
   "outputs": [],
   "source": [
    "person = {\n",
    "    'first_name': 'Sara',\n",
    "    'last_name': 'Usman',\n",
    "    'age': 22,\n",
    "    'city': 'Karachi',\n",
    "    }\n",
    "\n",
    "print(person['first_name'])\n",
    "print(person['last_name'])\n",
    "print(person['age'])\n",
    "print(person['city'])"
   ]
  },
  {
   "cell_type": "code",
   "execution_count": 3,
   "metadata": {},
   "outputs": [],
   "source": [
    "person[\"qualification\"]=\"Fsc\"\n",
    "person"
   ]
  },
  {
   "cell_type": "code",
   "execution_count": 4,
   "metadata": {},
   "outputs": [
    {
     "data": {
      "text/plain": [
       "{'first_name': 'Sara', 'last_name': 'Usman', 'age': 22, 'city': 'Karachi'}"
      ]
     },
     "execution_count": 4,
     "metadata": {},
     "output_type": "execute_result"
    }
   ],
   "source": [
    "person[\"qualification\"]=\"BBA\"\n",
    "person\n",
    "del person[\"qualification\"]\n",
    "person"
   ]
  },
  {
   "cell_type": "code",
   "execution_count": 5,
   "metadata": {},
   "outputs": [
    {
     "data": {
      "text/plain": [
       "{'Karachi': {'country': 'Pakistan',\n",
       "  'population': '14.91 million',\n",
       "  'fact': 'Its the sixth largest city in the world by population.'},\n",
       " 'WashingtonDC': {'country': 'USA',\n",
       "  'population': '633,427 million',\n",
       "  'fact': 'Two American Presidents kept alligators at the White House'},\n",
       " 'Bangkok': {'country': 'Thailand',\n",
       "  'population': '8.281 million',\n",
       "  'fact': 'Bangkok has the largest Chinatown with the largest solid gold Buddha statue.'}}"
      ]
     },
     "execution_count": 5,
     "metadata": {},
     "output_type": "execute_result"
    }
   ],
   "source": [
    "cities = {\n",
    "    \"Karachi\":{\n",
    "        \"country\":\"Pakistan\",\n",
    "        \"population\":\"14.91 million\",\n",
    "        \"fact\":\"Its the sixth largest city in the world by population.\"\n",
    "    },\n",
    "    \"WashingtonDC\":{\n",
    "        \"country\":\"USA\",\n",
    "        \"population\":\"633,427 million\",\n",
    "        \"fact\":\"Two American Presidents kept alligators at the White House\"  \n",
    "    },\n",
    "    \"Bangkok\":{\n",
    "        \"country\":\"Thailand\",\n",
    "        \"population\":\"8.281 million\",\n",
    "        \"fact\":\"Bangkok has the largest Chinatown with the largest solid gold Buddha statue.\"\n",
    "    }\n",
    "     }\n",
    "cities"
   ]
  },
  {
   "cell_type": "code",
   "execution_count": 6,
   "metadata": {},
   "outputs": [
    {
     "data": {
      "text/plain": [
       "{'country': 'Pakistan',\n",
       " 'population': '14.91 million',\n",
       " 'fact': 'Its the sixth largest city in the world by population.'}"
      ]
     },
     "execution_count": 6,
     "metadata": {},
     "output_type": "execute_result"
    }
   ],
   "source": [
    "cities[\"Karachi\"]"
   ]
  },
  {
   "cell_type": "code",
   "execution_count": 7,
   "metadata": {},
   "outputs": [
    {
     "data": {
      "text/plain": [
       "{'country': 'USA',\n",
       " 'population': '633,427 million',\n",
       " 'fact': 'Two American Presidents kept alligators at the White House'}"
      ]
     },
     "execution_count": 7,
     "metadata": {},
     "output_type": "execute_result"
    }
   ],
   "source": [
    "cities[\"WashingtonDC\"]"
   ]
  },
  {
   "cell_type": "code",
   "execution_count": 8,
   "metadata": {},
   "outputs": [
    {
     "data": {
      "text/plain": [
       "{'country': 'Thailand',\n",
       " 'population': '8.281 million',\n",
       " 'fact': 'Bangkok has the largest Chinatown with the largest solid gold Buddha statue.'}"
      ]
     },
     "execution_count": 8,
     "metadata": {},
     "output_type": "execute_result"
    }
   ],
   "source": [
    "cities[\"Bangkok\"]"
   ]
  },
  {
   "cell_type": "code",
   "execution_count": null,
   "metadata": {},
   "outputs": [],
   "source": [
    "prompt = \"How old are you?\"\n",
    "prompt += \"\\nEnter 'quit' when you are finished. \"\n",
    "\n",
    "while True:\n",
    "    age = input(prompt)\n",
    "    if age == 'quit':\n",
    "        break\n",
    "    age = int(age)\n",
    "\n",
    "    if age < 3:\n",
    "        print(\"  You get in free!\")\n",
    "    elif age < 13:\n",
    "        print(\"  Your ticket is $10.\")\n",
    "    else:\n",
    "        print(\"  Your ticket is $15.\")"
   ]
  },
  {
   "cell_type": "code",
   "execution_count": null,
   "metadata": {},
   "outputs": [],
   "source": [
    "def favourite_book(title):\n",
    "    print(title + \" is my favourite book\")\n",
    "favourite_book(\"Qura'an\")"
   ]
  },
  {
   "cell_type": "code",
   "execution_count": null,
   "metadata": {},
   "outputs": [],
   "source": [
    "import random\n",
    "\n",
    "hidden = random.randrange(0,201)\n",
    "#print(hidden)\n",
    "user_input = int(input(\"enter your guess no.\"))\n",
    "if user_input == hidden:\n",
    "    print(\" u are right!\")\n",
    "elif user_input < hidden:\n",
    "    print(\"u are low\")\n",
    "else user_input > hidden:\n",
    "    print(\"u are high\")"
   ]
  },
  {
   "cell_type": "code",
   "execution_count": null,
   "metadata": {},
   "outputs": [],
   "source": []
  }
 ],
 "metadata": {
  "kernelspec": {
   "display_name": "Python 3",
   "language": "python",
   "name": "python3"
  },
  "language_info": {
   "codemirror_mode": {
    "name": "ipython",
    "version": 3
   },
   "file_extension": ".py",
   "mimetype": "text/x-python",
   "name": "python",
   "nbconvert_exporter": "python",
   "pygments_lexer": "ipython3",
   "version": "3.7.3"
  }
 },
 "nbformat": 4,
 "nbformat_minor": 2
}
