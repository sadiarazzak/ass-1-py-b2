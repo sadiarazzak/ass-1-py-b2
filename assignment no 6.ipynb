{
 "cells": [
  {
   "cell_type": "markdown",
   "metadata": {},
   "source": [
    "# 1.define object oriented programming language?"
   ]
  },
  {
   "cell_type": "code",
   "execution_count": 1,
   "metadata": {},
   "outputs": [
    {
     "name": "stdout",
     "output_type": "stream",
     "text": [
      "Object-oriented programming (OOP) refers to a type of computer programming (software design) in which programmers define the data type of a data structure, and also the types of operations (functions) that can be applied to the data structure.\n"
     ]
    }
   ],
   "source": [
    "print(\"Object-oriented programming (OOP) refers to a type of computer programming (software design) in which programmers define the data type of a data structure, and also the types of operations (functions) that can be applied to the data structure.\")"
   ]
  },
  {
   "cell_type": "markdown",
   "metadata": {},
   "source": [
    "# 2. list down the benefits of OOP?"
   ]
  },
  {
   "cell_type": "code",
   "execution_count": 13,
   "metadata": {},
   "outputs": [
    {
     "name": "stdout",
     "output_type": "stream",
     "text": [
      "['1.It provides a clear modular structure for programs which makes it good for defining abstract datatypes in which implementation details are hidden. 2.Objects can also be reused within an across applications. 3.It makes software easier to maintain. 4.Reuse also enables faster development.']\n"
     ]
    }
   ],
   "source": [
    "print([\"1.It provides a clear modular structure for programs which makes it good for defining abstract datatypes in which implementation details are hidden. 2.Objects can also be reused within an across applications. 3.It makes software easier to maintain. 4.Reuse also enables faster development.\"])\n"
   ]
  },
  {
   "cell_type": "markdown",
   "metadata": {},
   "source": [
    "# 3.differentiate between function and method:"
   ]
  },
  {
   "cell_type": "code",
   "execution_count": 29,
   "metadata": {},
   "outputs": [
    {
     "name": "stdout",
     "output_type": "stream",
     "text": [
      "[{'Functions': {1: 'Function is block of code that is also called by its name. (independent)', 3: 'It may or may not return any data.', 4: 'Function does not deal with Class and its instance concept.'}}, {'Python Method': {1: 'Method is called by its name, but it is associated to an object (dependent).', 2: 'A method is implicitly passed the object on which it is invoked.', 3: 'It may or may not return any data.'}, 4: 'A method can operate on the data (instance variables) that is contained by the corresponding class'}]\n"
     ]
    }
   ],
   "source": [
    "function_method = [\n",
    "        {\"Functions\":\n",
    "\n",
    "{1 :\"Function is block of code that is also called by its name. (independent)\",\n",
    "3 :\"It may or may not return any data.\",\n",
    "4 :\"Function does not deal with Class and its instance concept.\"}},\n",
    "\n",
    "{\"Python Method\":\n",
    "\n",
    "{1 :\"Method is called by its name, but it is associated to an object (dependent).\",\n",
    "2 :\"A method is implicitly passed the object on which it is invoked.\",\n",
    "3 :\"It may or may not return any data.\"},\n",
    "4 :\"A method can operate on the data (instance variables) that is contained by the corresponding class\"}\n",
    "\n",
    "        ]\n",
    "print(function_method)"
   ]
  },
  {
   "cell_type": "markdown",
   "metadata": {},
   "source": [
    "# 4. define the following terms:a. class b.object c.attributes d.behavior"
   ]
  },
  {
   "cell_type": "code",
   "execution_count": 36,
   "metadata": {},
   "outputs": [
    {
     "name": "stdout",
     "output_type": "stream",
     "text": [
      "CLASS A class is a code template for creating objects. In python a class is created by the keyword class\n",
      "OBJECT Objects have member variables and have behaviour associated with them.An object is created using the constructor of the class.\n",
      "ATTRIBUTES A class attribute is a Python variable that belongs to a class rather than a particular object. It is shared between all the objects of this class and it is defined outside the constructor function, __init__(self,...) , of the class\n"
     ]
    }
   ],
   "source": [
    "print(\"CLASS A class is a code template for creating objects. In python a class is created by the keyword class\")\n",
    "\n",
    "print(\"OBJECT Objects have member variables and have behaviour associated with them.An object is created using the constructor of the class.\")\n",
    "print(\"ATTRIBUTES A class attribute is a Python variable that belongs to a class rather than a particular object. It is shared between all the objects of this class and it is defined outside the constructor function, __init__(self,...) , of the class\")"
   ]
  },
  {
   "cell_type": "code",
   "execution_count": null,
   "metadata": {},
   "outputs": [],
   "source": []
  }
 ],
 "metadata": {
  "kernelspec": {
   "display_name": "Python 3",
   "language": "python",
   "name": "python3"
  },
  "language_info": {
   "codemirror_mode": {
    "name": "ipython",
    "version": 3
   },
   "file_extension": ".py",
   "mimetype": "text/x-python",
   "name": "python",
   "nbconvert_exporter": "python",
   "pygments_lexer": "ipython3",
   "version": "3.7.3"
  }
 },
 "nbformat": 4,
 "nbformat_minor": 2
}
