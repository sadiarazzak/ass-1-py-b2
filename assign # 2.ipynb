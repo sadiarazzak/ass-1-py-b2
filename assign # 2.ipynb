{
 "cells": [
  {
   "cell_type": "markdown",
   "metadata": {},
   "source": [
    "# Q1. Write a python program which takes 5 input from user for different subject's marks, total it and generate marksheet using grades"
   ]
  },
  {
   "cell_type": "code",
   "execution_count": 1,
   "metadata": {},
   "outputs": [
    {
     "name": "stdout",
     "output_type": "stream",
     "text": [
      "Enter no for Physics : 88\n",
      "Enter no for Maths : 100\n",
      "Enter no for English : 87\n",
      "Enter no for Pak Studies : 76\n",
      "Enter no for Urdu : 86\n",
      "A1 Grade\n"
     ]
    }
   ],
   "source": [
    "mark1 = int(input(\"Enter no for Physics : \"))\n",
    "mark2 = int(input(\"Enter no for Maths : \"))\n",
    "mark3 = int(input(\"Enter no for English : \"))\n",
    "mark4 = int(input(\"Enter no for Pak Studies : \"))\n",
    "mark5 = int(input(\"Enter no for Urdu : \"))\n",
    "Total = mark1 + mark2 + mark3 +mark4 + mark5\n",
    "if Total >= 400:\n",
    "    print(\"A1 Grade\");\n",
    "elif Total >= 350 and Total < 400: \n",
    "    print(\"A Grade\")\n",
    "elif Total >= 300 and Total< 350:\n",
    "    print(\"B Grade\")\n",
    "elif Total >=250 and Total< 300:\n",
    "    print(\"C Grade\")\n",
    "elif Total >= 200 and Total< 250:\n",
    "    print(\"D Grade\")\n",
    "elif Total >= 165 and Total< 200:\n",
    "    print(\"E Grade\")\n",
    "else:\n",
    "    print(\"Fail\")\n"
   ]
  },
  {
   "cell_type": "markdown",
   "metadata": {},
   "source": [
    "# Q2. write a program which take input from user and identify that the given number is odd or even "
   ]
  },
  {
   "cell_type": "code",
   "execution_count": 1,
   "metadata": {},
   "outputs": [
    {
     "name": "stdout",
     "output_type": "stream",
     "text": [
      "Enter the no. to identify either the no is even or odd : 14\n",
      "no. 14 is even.\n"
     ]
    }
   ],
   "source": [
    "num  = int(input(\"Enter the no. to identify either the no is even or odd : \"))\n",
    "if num %2 == 0:\n",
    "    print(\"no. \" +str(num) +\" is even.\")\n",
    "else:\n",
    "    print(\"no. \" +str(num)+\" is odd.\")"
   ]
  },
  {
   "cell_type": "markdown",
   "metadata": {},
   "source": [
    "# Q3. Write a program which print the length of list"
   ]
  },
  {
   "cell_type": "code",
   "execution_count": 4,
   "metadata": {},
   "outputs": [
    {
     "data": {
      "text/plain": [
       "15"
      ]
     },
     "execution_count": 4,
     "metadata": {},
     "output_type": "execute_result"
    }
   ],
   "source": [
    "a = [1,2,3,4,5,6,\"a\",\"b\",\"c\",\"d\",7,8,9,\"r\",10]\n",
    "len(a)"
   ]
  },
  {
   "cell_type": "markdown",
   "metadata": {},
   "source": [
    "# Q4. Write a python program to sum all the numeric items in a list"
   ]
  },
  {
   "cell_type": "code",
   "execution_count": 1,
   "metadata": {},
   "outputs": [
    {
     "data": {
      "text/plain": [
       "28"
      ]
     },
     "execution_count": 1,
     "metadata": {},
     "output_type": "execute_result"
    }
   ],
   "source": [
    "a = [1,2,3,4,5,6,7]\n",
    "sum(a)"
   ]
  },
  {
   "cell_type": "markdown",
   "metadata": {},
   "source": [
    "# Q5. Write a python program to get the largest number from a numeric list"
   ]
  },
  {
   "cell_type": "code",
   "execution_count": 2,
   "metadata": {},
   "outputs": [
    {
     "name": "stdout",
     "output_type": "stream",
     "text": [
      "Largest no of list1 is  300\n"
     ]
    }
   ],
   "source": [
    "list1 =[10,20,50,60,90,300,79,100]\n",
    "print(\"Largest no of list1 is \" , max(list1))\n"
   ]
  },
  {
   "cell_type": "markdown",
   "metadata": {},
   "source": [
    "# Q6. Take a list and write a program that prints out all the elements of the list that are less than 5"
   ]
  },
  {
   "cell_type": "code",
   "execution_count": 8,
   "metadata": {},
   "outputs": [
    {
     "data": {
      "text/plain": [
       "[1, 2, 0, 6, 7, 3, 9, 8, 4, 5]"
      ]
     },
     "execution_count": 8,
     "metadata": {},
     "output_type": "execute_result"
    }
   ],
   "source": [
    "a = [1,2,0,6,7,3,9,8,4,5]\n",
    "a"
   ]
  },
  {
   "cell_type": "code",
   "execution_count": 9,
   "metadata": {},
   "outputs": [
    {
     "name": "stdout",
     "output_type": "stream",
     "text": [
      "1\n",
      "2\n",
      "0\n",
      "3\n",
      "4\n"
     ]
    }
   ],
   "source": [
    "for i in a:\n",
    "    if i<5:\n",
    "        print(i)"
   ]
  }
 ],
 "metadata": {
  "kernelspec": {
   "display_name": "Python 3",
   "language": "python",
   "name": "python3"
  },
  "language_info": {
   "codemirror_mode": {
    "name": "ipython",
    "version": 3
   },
   "file_extension": ".py",
   "mimetype": "text/x-python",
   "name": "python",
   "nbconvert_exporter": "python",
   "pygments_lexer": "ipython3",
   "version": "3.7.3"
  }
 },
 "nbformat": 4,
 "nbformat_minor": 2
}
